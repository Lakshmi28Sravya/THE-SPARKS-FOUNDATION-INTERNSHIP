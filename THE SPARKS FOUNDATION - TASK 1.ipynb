{
 "cells": [
  {
   "cell_type": "markdown",
   "metadata": {},
   "source": [
    "## THE SPARKS FOUNDATION- DATASCIENCE & BUSINESS ANALYTICS INTERNSHIP"
   ]
  },
  {
   "cell_type": "markdown",
   "metadata": {},
   "source": [
    "## TASK:1 - PREDICTION USING SUPERVISED LEARNING ALGORITHM\n",
    "#### PRESENTED BY : H.LAKSHMI SRAVYA"
   ]
  },
  {
   "cell_type": "markdown",
   "metadata": {},
   "source": [
    "### To Predict the percentage of Student based on number of hours of study"
   ]
  },
  {
   "cell_type": "markdown",
   "metadata": {},
   "source": [
    "\n",
    "## Steps :"
   ]
  },
  {
   "cell_type": "markdown",
   "metadata": {},
   "source": [
    "### 1. Importing required packages\n",
    "### 2. Reading the CSV DataFile\n",
    "### 3. Data PreProcessing\n",
    "### 4. Data Visualisation\n",
    "### 5. Training the model\n",
    "### 6.  Predicting the output of un-labelled data\n",
    "### 7. Measuring Accuracy of model"
   ]
  },
  {
   "cell_type": "markdown",
   "metadata": {},
   "source": [
    "### STEP1: IMPORTING REQUIRED PACKAGES"
   ]
  },
  {
   "cell_type": "code",
   "execution_count": 43,
   "metadata": {},
   "outputs": [],
   "source": [
    "import pandas as pd      # for reading data set\n",
    "import numpy as np       # for array calculations\n",
    "import sklearn\n",
    "from sklearn.model_selection import train_test_split\n",
    "from sklearn.linear_model import LinearRegression\n",
    "import matplotlib.pyplot as plt        # for data visualisation \n"
   ]
  },
  {
   "cell_type": "markdown",
   "metadata": {},
   "source": [
    "### STEP2: READING THE CSV DATA FILE"
   ]
  },
  {
   "cell_type": "code",
   "execution_count": 9,
   "metadata": {},
   "outputs": [],
   "source": [
    "dataset=pd.read_csv(\"https://raw.githubusercontent.com/AdiPersonalWorks/Random/master/student_scores%20-%20student_scores.csv\")\n"
   ]
  },
  {
   "cell_type": "markdown",
   "metadata": {},
   "source": [
    "#### Let us view the data set. we use head() to view top 5 rows of the list. Also we will see the number of rows and columnns present in our data set using shape() "
   ]
  },
  {
   "cell_type": "code",
   "execution_count": 47,
   "metadata": {},
   "outputs": [
    {
     "name": "stdout",
     "output_type": "stream",
     "text": [
      "   Hours  Scores\n",
      "0    2.5      21\n",
      "1    5.1      47\n",
      "2    3.2      27\n",
      "3    8.5      75\n",
      "4    3.5      30\n"
     ]
    }
   ],
   "source": [
    "data_top=dataset.head()     # data_top is a variable that has top 5 rows of our data set.head() function to display top 5 rows\n",
    "print(data_top)    \n",
    "# printing top 5 rows of our data set"
   ]
  },
  {
   "cell_type": "code",
   "execution_count": 18,
   "metadata": {},
   "outputs": [
    {
     "name": "stdout",
     "output_type": "stream",
     "text": [
      "(25, 2)\n"
     ]
    }
   ],
   "source": [
    "shape=dataset.shape     # shape() function describes about number of rows and columns in our dataset\n",
    "print(shape)            # So, (25,2) Represents 25 rows and 2 columns are present "
   ]
  },
  {
   "cell_type": "markdown",
   "metadata": {},
   "source": [
    "#### Let us view some basic statistical details like mean, min, max, std etc\n"
   ]
  },
  {
   "cell_type": "code",
   "execution_count": 20,
   "metadata": {},
   "outputs": [
    {
     "name": "stdout",
     "output_type": "stream",
     "text": [
      "           Hours     Scores\n",
      "count  25.000000  25.000000\n",
      "mean    5.012000  51.480000\n",
      "std     2.525094  25.286887\n",
      "min     1.100000  17.000000\n",
      "25%     2.700000  30.000000\n",
      "50%     4.800000  47.000000\n",
      "75%     7.400000  75.000000\n",
      "max     9.200000  95.000000\n"
     ]
    }
   ],
   "source": [
    "desc=dataset.describe()     # pandas describe() is used for statistical details like mean,min, max etc..\n",
    "print(desc)"
   ]
  },
  {
   "cell_type": "markdown",
   "metadata": {},
   "source": [
    "### STEP3: DATA PREPROCESSING"
   ]
  },
  {
   "cell_type": "markdown",
   "metadata": {},
   "source": [
    "#### Let us see if there are any null values in any of the rows in our dataset"
   ]
  },
  {
   "cell_type": "code",
   "execution_count": 84,
   "metadata": {},
   "outputs": [
    {
     "name": "stdout",
     "output_type": "stream",
     "text": [
      "    Hours  Scores\n",
      "0    True    True\n",
      "1    True    True\n",
      "2    True    True\n",
      "3    True    True\n",
      "4    True    True\n",
      "5    True    True\n",
      "6    True    True\n",
      "7    True    True\n",
      "8    True    True\n",
      "9    True    True\n",
      "10   True    True\n",
      "11   True    True\n",
      "12   True    True\n",
      "13   True    True\n",
      "14   True    True\n",
      "15   True    True\n",
      "16   True    True\n",
      "17   True    True\n",
      "18   True    True\n",
      "19   True    True\n",
      "20   True    True\n",
      "21   True    True\n",
      "22   True    True\n",
      "23   True    True\n",
      "24   True    True\n"
     ]
    }
   ],
   "source": [
    "x=dataset.notnull()     # notnull() is a function that returns 'True' if values in our dataset are not null values. \n",
    "print(x)               # Since all the values of our data set are True , it implies that there are no null values in given dataset"
   ]
  },
  {
   "cell_type": "markdown",
   "metadata": {},
   "source": [
    "### STEP 4: DATA VISUALISATION :"
   ]
  },
  {
   "cell_type": "markdown",
   "metadata": {},
   "source": [
    "#### Let us visualise the data. Data visualisation is an important task in Machine Learning because, we would be able to draw insights and we would be able to know which Machine Learning algorithm to be used to solve our problem . Let's visualise our dataset using 'matplotlib' package ."
   ]
  },
  {
   "cell_type": "code",
   "execution_count": 58,
   "metadata": {},
   "outputs": [
    {
     "data": {
      "image/png": "[encoded data removed]",
      "text/plain": [
       "<Figure size 432x288 with 1 Axes>"
      ]
     },
     "metadata": {
      "needs_background": "light"
     },
     "output_type": "display_data"
    }
   ],
   "source": [
    "x=np.array(dataset[['Hours']])                 # Storing the values of Hours into an array and named it as 'X'\n",
    "y=np.array(dataset[['Scores']])                # Storing the values of Scores into an array and named it as 'Y'\n",
    "plt.scatter(x,y,marker='o',color='green')      # scatter function in matplotlib is used to plot the data points\n",
    "plt.grid(True)                                 # Grids behind our graph              \n",
    "plt.xlabel('No.of Hours studied',color='blue') # Label the X axis of our graph as 'No. of Hours studied'\n",
    "plt.ylabel('Score obtained',color='blue')      # Label the Y-Axis of our graph as 'Score obtained'\n",
    "plt.show()                                     # Display the graph using show()"
   ]
  },
  {
   "cell_type": "markdown",
   "metadata": {},
   "source": [
    "#### We see that there is linear relation among the data points, So we can apply 'Linear Regression' on our dataset"
   ]
  },
  {
   "cell_type": "markdown",
   "metadata": {},
   "source": [
    "### LINEAR REGRESSION :"
   ]
  },
  {
   "cell_type": "markdown",
   "metadata": {},
   "source": [
    "#### Linear regression attempts to model the relationship between two variables by fitting a linear equation to observed data. One variable is considered to be an explanatory variable, and the other is considered to be a dependent variable."
   ]
  },
  {
   "cell_type": "markdown",
   "metadata": {},
   "source": [
    "#### In our dataset, the dependant variable is 'Scores' and the independent variable is 'Hours' of study"
   ]
  },
  {
   "cell_type": "markdown",
   "metadata": {},
   "source": [
    "### STEP 5: TRAINING OUR LINEAR REGRESSION MODEL"
   ]
  },
  {
   "cell_type": "markdown",
   "metadata": {},
   "source": [
    "#### Using train_test_split function to split our dataset into training and testing data"
   ]
  },
  {
   "cell_type": "code",
   "execution_count": 74,
   "metadata": {},
   "outputs": [],
   "source": [
    "X_Train, X_Test, Y_Train, Y_Test = train_test_split(x, y, test_size = 0.2, random_state = 0)"
   ]
  },
  {
   "cell_type": "markdown",
   "metadata": {},
   "source": [
    "#### Fitting the best fit for our model using Simple Linear Regression "
   ]
  },
  {
   "cell_type": "code",
   "execution_count": 75,
   "metadata": {},
   "outputs": [
    {
     "data": {
      "text/plain": [
       "Text(0, 0.5, 'Marks Obtained')"
      ]
     },
     "execution_count": 75,
     "metadata": {},
     "output_type": "execute_result"
    },
    {
     "data": {
      "image/png": "[encoded data removed]",
      "text/plain": [
       "<Figure size 432x288 with 1 Axes>"
      ]
     },
     "metadata": {
      "needs_background": "light"
     },
     "output_type": "display_data"
    }
   ],
   "source": [
    "model=LinearRegression()  \n",
    "model.fit(X_Train,Y_Train)\n",
    "line=model.coef_*x+model.intercept_    #y=mx+c form \n",
    "plt.scatter(x,y,color='green')\n",
    "plt.plot(x,line,color='red')\n",
    "plt.grid(True)\n",
    "plt.xlabel('No. of hours studied',color='blue')\n",
    "plt.ylabel('Marks Obtained',color='blue')"
   ]
  },
  {
   "cell_type": "markdown",
   "metadata": {},
   "source": [
    "#### Now we have trained our model. Let us see how the actual test values are different from our predicted values are:"
   ]
  },
  {
   "cell_type": "code",
   "execution_count": 79,
   "metadata": {},
   "outputs": [
    {
     "name": "stdout",
     "output_type": "stream",
     "text": [
      "[[20]\n",
      " [27]\n",
      " [69]\n",
      " [30]\n",
      " [62]]\n"
     ]
    }
   ],
   "source": [
    "print(Y_Test)     # Printing the actual Scores "
   ]
  },
  {
   "cell_type": "code",
   "execution_count": 80,
   "metadata": {},
   "outputs": [
    {
     "name": "stdout",
     "output_type": "stream",
     "text": [
      "[[16.88414476]\n",
      " [33.73226078]\n",
      " [75.357018  ]\n",
      " [26.79480124]\n",
      " [60.49103328]]\n"
     ]
    }
   ],
   "source": [
    "predicted= model.predict(X_Test)     # Let us predict the scores for the Testing data after we have developed our model. \n",
    "print(predicted)"
   ]
  },
  {
   "cell_type": "markdown",
   "metadata": {},
   "source": [
    "### STEP 6: PREDICTING THE OUTPUT OF UN-LABELLED DATA"
   ]
  },
  {
   "cell_type": "markdown",
   "metadata": {},
   "source": [
    "#### Now that we have trained our model using Linear Regression Algorithm . Our task now is to find out if a student studies for 9.25 hours in a day, what score is he going to obtain !"
   ]
  },
  {
   "cell_type": "code",
   "execution_count": 76,
   "metadata": {},
   "outputs": [
    {
     "name": "stdout",
     "output_type": "stream",
     "text": [
      "[[93.69173249]]\n"
     ]
    }
   ],
   "source": [
    "hrs=[[9.25]]                          # Converting 9.25 into array named 'hr'\n",
    "result=model.predict(hrs)             # Predicting the result    \n",
    "print(result)                      "
   ]
  },
  {
   "cell_type": "markdown",
   "metadata": {},
   "source": [
    "#### We can thereby state that if a student has studied for 9.25 hours/ day,  he can be able to score 93.69173249"
   ]
  },
  {
   "cell_type": "markdown",
   "metadata": {},
   "source": [
    "### STEP 7 : Measuring Accuracy of our model :\n"
   ]
  },
  {
   "cell_type": "code",
   "execution_count": 82,
   "metadata": {},
   "outputs": [
    {
     "name": "stdout",
     "output_type": "stream",
     "text": [
      "The Mean Absolute Error of our model is  4.18385989900298\n"
     ]
    }
   ],
   "source": [
    "from sklearn import metrics\n",
    "mean_abs_error=metrics.mean_absolute_error(Y_Test,predicted)    # Evaluating mean absolute error \n",
    "print(\"The Mean Absolute Error of our model is \",mean_abs_error)"
   ]
  },
  {
   "cell_type": "code",
   "execution_count": null,
   "metadata": {},
   "outputs": [],
   "source": []
  }
 ],
 "metadata": {
  "kernelspec": {
   "display_name": "Python 3",
   "language": "python",
   "name": "python3"
  },
  "language_info": {
   "codemirror_mode": {
    "name": "ipython",
    "version": 3
   },
   "file_extension": ".py",
   "mimetype": "text/x-python",
   "name": "python",
   "nbconvert_exporter": "python",
   "pygments_lexer": "ipython3",
   "version": "3.6.4"
  }
 },
 "nbformat": 4,
 "nbformat_minor": 4
}
